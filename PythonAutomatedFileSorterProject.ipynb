{
 "cells": [
  {
   "cell_type": "markdown",
   "id": "4b828355-51c4-4472-b06a-0178ccba3503",
   "metadata": {},
   "source": [
    "# Automatic File Sorter in File Explorer"
   ]
  },
  {
   "cell_type": "code",
   "execution_count": 61,
   "id": "d569206d-634e-46f6-9ee4-99cb87358906",
   "metadata": {},
   "outputs": [],
   "source": [
    "import os, shutil"
   ]
  },
  {
   "cell_type": "code",
   "execution_count": 63,
   "id": "2b556e95-7da3-464d-b8e9-0066f95edc15",
   "metadata": {},
   "outputs": [],
   "source": [
    "path = r\"C:/Users/luong/Downloads/Python Project/\" # change \\ to / (if you're using this code, change it to your path)"
   ]
  },
  {
   "cell_type": "code",
   "execution_count": 65,
   "id": "3adaef67-02be-46b5-831b-62824112668e",
   "metadata": {},
   "outputs": [],
   "source": [
    "file_name = os.listdir(path) # show us what files are in that path"
   ]
  },
  {
   "cell_type": "code",
   "execution_count": 69,
   "id": "b61559d1-1b17-4853-ada5-04dccb7535c1",
   "metadata": {},
   "outputs": [],
   "source": [
    "folder_names = ['csv files', 'image files', 'text files'] # creating the different folder names to sort files in\n",
    "\n",
    "for loop in range(0,3):\n",
    "    if not os.path.exists(path + folder_names[loop]):  # check if this path already exists or not, then we create those folder_names files into our path\n",
    "        # print(path + folder_names[loop])\n",
    "        os.makedirs((path + folder_names[loop]))\n",
    "\n",
    "for file in file_name: # for the file within the file_name\n",
    "    if \".csv\" in file and not os.path.exists(path + \"csv files/\" + file): # if the csv is in the file (but not in any of the (folder_name) path, csv files, file)\n",
    "        shutil.move(path + file, path + \"csv files/\" + file) # then we can move it from our initial path to our new path\n",
    "    elif \".png\" in file and not os.path.exists(path + \"image files/\" + file): # now repeat for the others, this is for the image file\n",
    "        shutil.move(path + file, path + \"image files/\" + file)\n",
    "    elif \".txt\" in file and not os.path.exists(path + \"text files/\" + file): # for text files\n",
    "        shutil.move(path + file, path + \"text files/\" + file)"
   ]
  },
  {
   "cell_type": "code",
   "execution_count": 59,
   "id": "23b5e2c2-986e-4f6f-b0be-84f434bd0372",
   "metadata": {},
   "outputs": [],
   "source": []
  },
  {
   "cell_type": "code",
   "execution_count": null,
   "id": "1fbc391e-6d1c-45f3-ba67-3512539511f4",
   "metadata": {},
   "outputs": [],
   "source": []
  },
  {
   "cell_type": "code",
   "execution_count": null,
   "id": "34d92305-f0b7-462a-aba7-b3145453b497",
   "metadata": {},
   "outputs": [],
   "source": []
  },
  {
   "cell_type": "code",
   "execution_count": null,
   "id": "6041612a-3dd8-4858-91cd-491d04801f77",
   "metadata": {},
   "outputs": [],
   "source": []
  },
  {
   "cell_type": "code",
   "execution_count": null,
   "id": "6975840b-12c7-478e-8c37-55ab18f4170f",
   "metadata": {},
   "outputs": [],
   "source": []
  },
  {
   "cell_type": "code",
   "execution_count": null,
   "id": "d99ba931-db6f-4463-b397-f64b74221fe2",
   "metadata": {},
   "outputs": [],
   "source": []
  },
  {
   "cell_type": "code",
   "execution_count": null,
   "id": "d467c1f4-dda6-438a-bcfb-1ea85577d7f5",
   "metadata": {},
   "outputs": [],
   "source": []
  },
  {
   "cell_type": "code",
   "execution_count": null,
   "id": "bce58b52-8ff1-4b0e-aed5-d802f6fa78ad",
   "metadata": {},
   "outputs": [],
   "source": []
  }
 ],
 "metadata": {
  "kernelspec": {
   "display_name": "Python 3 (ipykernel)",
   "language": "python",
   "name": "python3"
  },
  "language_info": {
   "codemirror_mode": {
    "name": "ipython",
    "version": 3
   },
   "file_extension": ".py",
   "mimetype": "text/x-python",
   "name": "python",
   "nbconvert_exporter": "python",
   "pygments_lexer": "ipython3",
   "version": "3.12.7"
  }
 },
 "nbformat": 4,
 "nbformat_minor": 5
}
